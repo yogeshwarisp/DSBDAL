{
 "cells": [
  {
   "cell_type": "code",
   "execution_count": 1,
   "id": "aef12197",
   "metadata": {},
   "outputs": [],
   "source": [
    "import pandas as pd\n",
    "#Inventory DataFrame\n",
    "data = {\n",
    "    \"Location1\": [100, 50, 300, 200, 80],\n",
    "    \"Location2\": [200, 60, 400, 250, 90],\n",
    "    \"Location3\": [150, 40, 350, 220, 70],\n",
    "    \"Location4\": [300, 80, 500, 270, 100]\n",
    "}\n",
    "i = pd.DataFrame(data, index=[\"Product1\", \"Product2\", \"Product3\", \"Product4\", \"Product5\"])"
   ]
  },
  {
   "cell_type": "code",
   "execution_count": 2,
   "id": "c6feac1e",
   "metadata": {},
   "outputs": [
    {
     "data": {
      "text/html": [
       "<div>\n",
       "<style scoped>\n",
       "    .dataframe tbody tr th:only-of-type {\n",
       "        vertical-align: middle;\n",
       "    }\n",
       "\n",
       "    .dataframe tbody tr th {\n",
       "        vertical-align: top;\n",
       "    }\n",
       "\n",
       "    .dataframe thead th {\n",
       "        text-align: right;\n",
       "    }\n",
       "</style>\n",
       "<table border=\"1\" class=\"dataframe\">\n",
       "  <thead>\n",
       "    <tr style=\"text-align: right;\">\n",
       "      <th></th>\n",
       "      <th>Location1</th>\n",
       "      <th>Location2</th>\n",
       "      <th>Location3</th>\n",
       "      <th>Location4</th>\n",
       "    </tr>\n",
       "  </thead>\n",
       "  <tbody>\n",
       "    <tr>\n",
       "      <th>Product1</th>\n",
       "      <td>100</td>\n",
       "      <td>200</td>\n",
       "      <td>150</td>\n",
       "      <td>300</td>\n",
       "    </tr>\n",
       "    <tr>\n",
       "      <th>Product2</th>\n",
       "      <td>50</td>\n",
       "      <td>60</td>\n",
       "      <td>40</td>\n",
       "      <td>80</td>\n",
       "    </tr>\n",
       "  </tbody>\n",
       "</table>\n",
       "</div>"
      ],
      "text/plain": [
       "          Location1  Location2  Location3  Location4\n",
       "Product1        100        200        150        300\n",
       "Product2         50         60         40         80"
      ]
     },
     "execution_count": 2,
     "metadata": {},
     "output_type": "execute_result"
    }
   ],
   "source": [
    "#1. Display the first two rows of the inventory DataFrame.\n",
    "i.head(2)"
   ]
  },
  {
   "cell_type": "code",
   "execution_count": 3,
   "id": "1d162146",
   "metadata": {},
   "outputs": [
    {
     "data": {
      "text/plain": [
       "(5, 4)"
      ]
     },
     "execution_count": 3,
     "metadata": {},
     "output_type": "execute_result"
    }
   ],
   "source": [
    "#2. Get the total number of rows and columns in the DataFrame.\n",
    "i.shape"
   ]
  },
  {
   "cell_type": "code",
   "execution_count": 4,
   "id": "6160f7cb",
   "metadata": {},
   "outputs": [
    {
     "data": {
      "text/plain": [
       "['Location1', 'Location2', 'Location3', 'Location4']"
      ]
     },
     "execution_count": 4,
     "metadata": {},
     "output_type": "execute_result"
    }
   ],
   "source": [
    "#3. List the column names and row indices.\n",
    "i.columns.tolist()"
   ]
  },
  {
   "cell_type": "code",
   "execution_count": 5,
   "id": "d787a24b",
   "metadata": {},
   "outputs": [
    {
     "data": {
      "text/plain": [
       "['Product1', 'Product2', 'Product3', 'Product4', 'Product5']"
      ]
     },
     "execution_count": 5,
     "metadata": {},
     "output_type": "execute_result"
    }
   ],
   "source": [
    "i.index.tolist() "
   ]
  },
  {
   "cell_type": "code",
   "execution_count": 6,
   "id": "d5a911e1",
   "metadata": {},
   "outputs": [
    {
     "data": {
      "text/plain": [
       "Location1    int64\n",
       "Location2    int64\n",
       "Location3    int64\n",
       "Location4    int64\n",
       "dtype: object"
      ]
     },
     "execution_count": 6,
     "metadata": {},
     "output_type": "execute_result"
    }
   ],
   "source": [
    "#4. Display the data type of each column in the DataFrame.\n",
    "i.dtypes"
   ]
  },
  {
   "cell_type": "code",
   "execution_count": 7,
   "id": "b48709a9",
   "metadata": {},
   "outputs": [
    {
     "data": {
      "text/plain": [
       "Location1    0\n",
       "Location2    0\n",
       "Location3    0\n",
       "Location4    0\n",
       "dtype: int64"
      ]
     },
     "execution_count": 7,
     "metadata": {},
     "output_type": "execute_result"
    }
   ],
   "source": [
    "#5. Check if there are any missing values in the DataFrame.\n",
    "i.isnull().sum()"
   ]
  },
  {
   "cell_type": "code",
   "execution_count": 8,
   "id": "0740795b",
   "metadata": {},
   "outputs": [
    {
     "name": "stdout",
     "output_type": "stream",
     "text": [
      "Location1    300\n",
      "Location2    400\n",
      "Location3    350\n",
      "Location4    500\n",
      "Name: Product3, dtype: int64\n"
     ]
    }
   ],
   "source": [
    "#6. Retrieve the stock levels for \"Product3\" across all locations.\n",
    "a = i.loc[\"Product3\"]\n",
    "print(a)"
   ]
  },
  {
   "cell_type": "code",
   "execution_count": 9,
   "id": "c85efe87",
   "metadata": {},
   "outputs": [
    {
     "name": "stdout",
     "output_type": "stream",
     "text": [
      "          Location1  Location3\n",
      "Product1        100        150\n",
      "Product4        200        220\n"
     ]
    }
   ],
   "source": [
    "#7. Retrieve the stock levels of \"Product 1\" and \"Product4\" for \"Location1\" and \"Location3\".\n",
    "a = i.iloc[[0,3],[0,2]]\n",
    "print(a)"
   ]
  },
  {
   "cell_type": "code",
   "execution_count": 10,
   "id": "46937f5f",
   "metadata": {},
   "outputs": [
    {
     "name": "stdout",
     "output_type": "stream",
     "text": [
      "          Location1  Location2  Location3  Location4\n",
      "Product1        100        200        150        300\n",
      "Product2         50         60         40         80\n",
      "Product3        300        400        350        500\n"
     ]
    }
   ],
   "source": [
    "#8.  Slice the DataFrame to get the first 3 products and the first 2 locations.\n",
    "a = i.iloc[0:3,0:4]\n",
    "print(a)"
   ]
  },
  {
   "cell_type": "code",
   "execution_count": 11,
   "id": "8bfb5dcf",
   "metadata": {},
   "outputs": [
    {
     "data": {
      "text/html": [
       "<div>\n",
       "<style scoped>\n",
       "    .dataframe tbody tr th:only-of-type {\n",
       "        vertical-align: middle;\n",
       "    }\n",
       "\n",
       "    .dataframe tbody tr th {\n",
       "        vertical-align: top;\n",
       "    }\n",
       "\n",
       "    .dataframe thead th {\n",
       "        text-align: right;\n",
       "    }\n",
       "</style>\n",
       "<table border=\"1\" class=\"dataframe\">\n",
       "  <thead>\n",
       "    <tr style=\"text-align: right;\">\n",
       "      <th></th>\n",
       "      <th>Location1</th>\n",
       "      <th>Location2</th>\n",
       "      <th>Location3</th>\n",
       "      <th>Location4</th>\n",
       "    </tr>\n",
       "  </thead>\n",
       "  <tbody>\n",
       "    <tr>\n",
       "      <th>Product1</th>\n",
       "      <td>100</td>\n",
       "      <td>200</td>\n",
       "      <td>150</td>\n",
       "      <td>300</td>\n",
       "    </tr>\n",
       "    <tr>\n",
       "      <th>Product2</th>\n",
       "      <td>50</td>\n",
       "      <td>60</td>\n",
       "      <td>40</td>\n",
       "      <td>80</td>\n",
       "    </tr>\n",
       "    <tr>\n",
       "      <th>Product3</th>\n",
       "      <td>300</td>\n",
       "      <td>400</td>\n",
       "      <td>350</td>\n",
       "      <td>500</td>\n",
       "    </tr>\n",
       "  </tbody>\n",
       "</table>\n",
       "</div>"
      ],
      "text/plain": [
       "          Location1  Location2  Location3  Location4\n",
       "Product1        100        200        150        300\n",
       "Product2         50         60         40         80\n",
       "Product3        300        400        350        500"
      ]
     },
     "execution_count": 11,
     "metadata": {},
     "output_type": "execute_result"
    }
   ],
   "source": [
    "#9. Retrieve the stock level of \"Product5\" at \"Location3\"\n",
    "a"
   ]
  },
  {
   "cell_type": "code",
   "execution_count": 13,
   "id": "04d7c617",
   "metadata": {},
   "outputs": [
    {
     "name": "stdout",
     "output_type": "stream",
     "text": [
      "Product1    200\n",
      "Product2     60\n",
      "Product3    400\n",
      "Product4    250\n",
      "Product5     90\n",
      "Name: Location2, dtype: int64\n"
     ]
    }
   ],
   "source": [
    "#10. Extract the stock levels for \"Location2\" across all products.\n",
    "a = i.iloc[:, 1]\n",
    "print(a)"
   ]
  },
  {
   "cell_type": "code",
   "execution_count": null,
   "id": "28597204",
   "metadata": {},
   "outputs": [],
   "source": []
  }
 ],
 "metadata": {
  "kernelspec": {
   "display_name": "Python 3 (ipykernel)",
   "language": "python",
   "name": "python3"
  },
  "language_info": {
   "codemirror_mode": {
    "name": "ipython",
    "version": 3
   },
   "file_extension": ".py",
   "mimetype": "text/x-python",
   "name": "python",
   "nbconvert_exporter": "python",
   "pygments_lexer": "ipython3",
   "version": "3.11.5"
  }
 },
 "nbformat": 4,
 "nbformat_minor": 5
}
